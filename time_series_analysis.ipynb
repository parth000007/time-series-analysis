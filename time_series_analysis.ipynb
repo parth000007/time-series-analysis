{
 "cells": [
  {
   "cell_type": "markdown",
   "metadata": {},
   "source": [
    "# Time Series Analysis and Forecasting\n",
    "\n",
    "## Overview\n",
    "This notebook provides a comprehensive guide to time series analysis and forecasting techniques using Python.\n",
    "\n",
    "## Contents\n",
    "1. Data Loading and Preprocessing\n",
    "2. Exploratory Data Analysis\n",
    "3. Time Series Decomposition\n",
    "4. Stationarity Testing\n",
    "5. Model Building (ARIMA, Prophet)\n",
    "6. Forecasting and Evaluation"
   ]
  },
  {
   "cell_type": "code",
   "execution_count": null,
   "metadata": {},
   "outputs": [],
   "source": [
    "# Import necessary libraries\n",
    "import pandas as pd\n",
    "import numpy as np\n",
    "import matplotlib.pyplot as plt\n",
    "import seaborn as sns\n",
    "from statsmodels.tsa.seasonal import seasonal_decompose\n",
    "from statsmodels.tsa.stattools import adfuller\n",
    "from statsmodels.tsa.arima.model import ARIMA\n",
    "from prophet import Prophet\n",
    "from sklearn.metrics import mean_absolute_error, mean_squared_error\n",
    "import warnings\n",
    "warnings.filterwarnings('ignore')\n",
    "\n",
    "# Set plotting style\n",
    "plt.style.use('seaborn-v0_8')\n",
    "sns.set_palette(\"husl\")"
   ]
  },
  {
   "cell_type": "markdown",
   "metadata": {},
   "source": [
    "## 1. Data Loading and Preprocessing"
   ]
  },
  {
   "cell_type": "code",
   "execution_count": null,
   "metadata": {},
   "outputs": [],
   "source": [
    "# Load sample data (replace with your actual data)\n",
    "# For demonstration, we'll create synthetic time series data\n",
    "np.random.seed(42)\n",
    "dates = pd.date_range(start='2020-01-01', end='2023-12-31', freq='D')\n",
    "trend = np.linspace(100, 200, len(dates))\n",
    "seasonal = 20 * np.sin(2 * np.pi * np.arange(len(dates)) / 365.25)\n",
    "noise = np.random.normal(0, 10, len(dates))\n",
    "values = trend + seasonal + noise\n",
    "\n",
    "df = pd.DataFrame({\n    'date': dates,\n    'value': values\n",
    "})\n",
    "\n",
    "df['date'] = pd.to_datetime(df['date'])\n",
    "df.set_index('date', inplace=True)\n",
    "\n",
    "print(\"Data shape:\", df.shape)\n",
    "print(\"Data info:\")\n",
    "print(df.info())\n",
    "print(\"\\nFirst few rows:\")\n",
    "print(df.head())"
   ]
  },
  {
   "cell_type": "markdown",
   "metadata": {},
   "source": [
    "## 2. Exploratory Data Analysis"
   ]
  },
  {
   "cell_type": "code",
   "execution_count": null,
   "metadata": {},
   "outputs": [],
   "source": [
    "# Basic statistics\n",
    "print(\"Basic Statistics:\")\n",
    "print(df.describe())\n",
    "\n",
    "# Check for missing values\n",
    "print(\"\\nMissing values:\")\n",
    "print(df.isnull().sum())"
   ]
  },
  {
   "cell_type": "code",
   "execution_count": null,
   "metadata": {},
   "outputs": [],
   "source": [
    "# Time series plot\n",
    "plt.figure(figsize=(15, 6))\n",
    "plt.plot(df.index, df['value'])\n",
    "plt.title('Time Series Data')\n",
    "plt.xlabel('Date')\n",
    "plt.ylabel('Value')\n",
    "plt.grid(True)\n",
    "plt.show()"
   ]
  },
  {
   "cell_type": "markdown",
   "metadata": {},
   "source": [
    "## 3. Time Series Decomposition"
   ]
  },
  {
   "cell_type": "code",
   "execution_count": null,
   "metadata": {},
   "outputs": [],
   "source": [
    "# Perform seasonal decomposition\n",
    "decomposition = seasonal_decompose(df['value'], model='additive', period=365)\n",
    "\n",
    "fig, axes = plt.subplots(4, 1, figsize=(15, 12))\n",
    "\n",
    "df['value'].plot(ax=axes[0], title='Original')\n",
    "decomposition.trend.plot(ax=axes[1], title='Trend')\n",
    "decomposition.seasonal.plot(ax=axes[2], title='Seasonal')\n",
    "decomposition.resid.plot(ax=axes[3], title='Residual')\n",
    "\n",
    "plt.tight_layout()\n",
    "plt.show()"
   ]
  },
  {
   "cell_type": "markdown",
   "metadata": {},
   "source": [
    "## 4. Stationarity Testing"
   ]
  },
  {
   "cell_type": "code",
   "execution_count": null,
   "metadata": {},
   "outputs": [],
   "source": [
    "# Augmented Dickey-Fuller test\n",
    "def adf_test(series):\n",
    "    result = adfuller(series)\n",
    "    print('ADF Statistic:', result[0])\n",
    "    print('p-value:', result[1])\n",
    "    print('Critical Values:')\n",
    "    for key, value in result[4].items():\n",
    "        print(f'\\t{key}: {value}')\n",
    "    \n",
    "    if result[1] <= 0.05:\n",
    "        print(\"The series is stationary\")\n",
    "    else:\n",
    "        print(\"The series is non-stationary\")\n",
    "\n",
    "print(\"ADF Test Results:\")\n",
    "adf_test(df['value'])"
   ]
  },
  {
   "cell_type": "markdown",
   "metadata": {},
   "source": [
    "## 5. Model Building"
   ]
  },
  {
   "cell_type": "markdown",
   "metadata": {},
   "source": [
    "### ARIMA Model"
   ]
  },
  {
   "cell_type": "code",
   "execution_count": null,
   "metadata": {},
   "outputs": [],
   "source": [
    "# Split data\n",
    "train_size = int(len(df) * 0.8)\n",
    "train, test = df['value'][:train_size], df['value'][train_size:]\n",
    "\n",
    "# Fit ARIMA model\n",
    "arima_model = ARIMA(train, order=(1, 1, 1))\n",
    "arima_fit = arima_model.fit()\n",
    "\n",
    "# Forecast\n",
    "forecast = arima_fit.forecast(steps=len(test))\n",
    "\n",
    "# Evaluate\n",
    "arima_mae = mean_absolute_error(test, forecast)\n",
    "arima_rmse = np.sqrt(mean_squared_error(test, forecast))\n",
    "\n",
    "print(f\"ARIMA MAE: {arima_mae:.4f}\")\n",
    "print(f\"ARIMA RMSE: {arima_rmse:.4f}\")\n",
    "\n",
    "# Plot results\n",
    "plt.figure(figsize=(15, 6))\n",
    "plt.plot(train.index, train, label='Train')\n",
    "plt.plot(test.index, test, label='Test')\n",
    "plt.plot(test.index, forecast, label='ARIMA Forecast')\n",
    "plt.legend()\n",
    "plt.title('ARIMA Model Results')\n",
    "plt.show()"
   ]
  },
  {
   "cell_type": "markdown",
   "metadata": {},
   "source": [
    "### Prophet Model"
   ]
  },
  {
   "cell_type": "code",
   "execution_count": null,
   "metadata": {},
   "outputs": [],
   "source": [
    "# Prepare data for Prophet\n",
    "prophet_df = df.reset_index().rename(columns={'date': 'ds', 'value': 'y'})\n",
    "\n",
    "# Split data\n",
    "train_prophet = prophet_df[:train_size]\n",
    "test_prophet = prophet_df[train_size:]\n",
    "\n",
    "# Fit Prophet model\n",
    "prophet_model = Prophet()\n",
    "prophet_model.fit(train_prophet)\n",
    "\n",
    "# Make predictions\n",
    "future = prophet_model.make_future_dataframe(periods=len(test_prophet))\n",
    "forecast = prophet_model.predict(future)\n",
    "\n",
    "# Evaluate\n",
    "prophet_forecast = forecast['yhat'][-len(test_prophet):]\n",
    "prophet_mae = mean_absolute_error(test_prophet['y'], prophet_forecast)\n",
    "prophet_rmse = np.sqrt(mean_squared_error(test_prophet['y'], prophet_forecast))\n",
    "\n",
    "print(f\"Prophet MAE: {prophet_mae:.4f}\")\n",
    "print(f\"Prophet RMSE: {prophet_rmse:.4f}\")\n",
    "\n",
    "# Plot results\n",
    "plt.figure(figsize=(15, 6))\n",
    "plt.plot(train.index, train, label='Train')\n",
    "plt.plot(test.index, test, label='Test')\n",
    "plt.plot(test.index, prophet_forecast, label='Prophet Forecast')\n",
    "plt.legend()\n",
    "plt.title('Prophet Model Results')\n",
    "plt.show()"
   ]
  },
  {
   "cell_type": "markdown",
   "metadata": {},
   "source": [
    "## 6. Model Comparison"
   ]
  },
  {
   "cell_type": "code",
   "execution_count": null,
   "metadata": {},
   "outputs": [],
   "source": [
    "# Compare models\n",
    "results = pd.DataFrame({\n",
    "    'Model': ['ARIMA', 'Prophet'],\n",
    "    'MAE': [arima_mae, prophet_mae],\n",
    "    'RMSE': [arima_rmse, prophet_rmse]\n",
    "})\n",
    "\n",
    "print(\"Model Comparison:\")\n",
    "print(results)\n",
    "\n",
    "# Visualize comparison\n",
    "fig, axes = plt.subplots(1, 2, figsize=(15, 5))\n",
    "\n",
    "results.plot(x='Model', y='MAE', kind='bar', ax=axes[0])\n",
    "axes[0].set_title('MAE Comparison')\n",
    "axes[0].set_ylabel('MAE')\n",
    "\n",
    "results.plot(x='Model', y='RMSE', kind='bar', ax=axes[1])\n",
    "axes[1].set_title('RMSE Comparison')\n",
    "axes[1].set_ylabel('RMSE')\n",
    "\n",
    "plt.tight_layout()\n",
    "plt.show()"
   ]
  },
  {
   "cell_type": "markdown",
   "metadata": {},
   "source": [
    "## Conclusion\n",
    "\n",
    "This notebook demonstrates various time series analysis techniques including:\n",
    "- Data preprocessing and exploration\n",
    "- Time series decomposition\n",
    "- Stationarity testing\n",
    "- ARIMA and Prophet model building\n",
    "- Model evaluation and comparison\n",
    "\n",
    "Feel free to replace the synthetic data with your actual time series data!"
   ]
  }
 ],
 "metadata": {
  "kernelspec": {
   "display_name": "Python 3",
   "language": "python",
   "name": "python3"
  },
  "language_info": {
   "codemirror_mode": {
    "name": "ipython",
    "version": 3
   },
   "file_extension": ".py",
   "mimetype": "text/x-python",
   "name": "python",
   "nbconvert_exporter": "python",
   "pygments_lexer": "ipython3",
   "version": "3.8.5"
  }
 },
 "nbformat": 4,
 "nbformat_minor": 4
}
